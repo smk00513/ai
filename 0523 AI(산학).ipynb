{
 "cells": [
  {
   "cell_type": "code",
   "execution_count": 5,
   "metadata": {},
   "outputs": [],
   "source": [
    "import tensorflow as tf\n",
    "import pandas as pd\n",
    "from sklearn.model_selection import train_test_split\n",
    "iris_data = pd.read_csv(\"CSV/iris.csv\", encoding = \"utf-8\")\n",
    "y_labels = iris_data.loc[:, \"Name\"]\n",
    "x_data = iris_data.loc[:, [\"SepalLength\", \"SepalWidth\", \"PetalLength\", \"PetalWidth\"]]\n",
    "labels = {'Iris-setosa' : [1, 0, 0], 'Iris-versicolor' : [0, 1 ,0], 'Iris-virginica' : [0, 0, 1]}\n",
    "y_nums = list(map(lambda v : labels[v], y_labels))\n",
    "\n",
    "x_train, x_test, y_train, y_test = train_test_split(x_data, y_nums, train_size = 0.8)"
   ]
  },
  {
   "cell_type": "code",
   "execution_count": 7,
   "metadata": {},
   "outputs": [],
   "source": [
    "x = tf.placeholder(tf.float32, [None, 4])\n",
    "y_ = tf.placeholder(tf.float32, [None, 3])\n",
    "w = tf.Variable(tf.zeros([4,3]))\n",
    "b = tf.Variable(tf.zeros([3]))\n",
    "y = tf.nn.softmax(tf.matmul(x, w)+ b)\n",
    "cross_entropy = -tf.reduce_sum(y_ * tf.log(y))\n",
    "optimizer = tf.train.AdamOptimizer(0.05)\n",
    "train = optimizer.minimize(cross_entropy)\n",
    "predict = tf.equal(tf.argmax(y, 1), tf.argmax(y_,1))\n",
    "accuracy = tf.reduce_mean(tf.cast(predict, tf.float32))"
   ]
  },
  {
   "cell_type": "code",
   "execution_count": null,
   "metadata": {},
   "outputs": [],
   "source": []
  },
  {
   "cell_type": "code",
   "execution_count": null,
   "metadata": {},
   "outputs": [],
   "source": []
  },
  {
   "cell_type": "code",
   "execution_count": null,
   "metadata": {},
   "outputs": [],
   "source": [
    "init = tf.global_variables_initializer()\n",
    "sess = tf.Session()\n",
    "sess.run(init)\n",
    "\n",
    "# 학습하기\n",
    "train_feed_dict = {x: x_train, y_: y_train}\n",
    "for step in range(300):\n",
    "sess.run(train, feed_dict=train_feed_dict)\n",
    "print(\"ok\")\n",
    "# 테스트 테이터를 사용해서 예측하고 최종 정답률 구하기\n",
    "\n",
    "acc = sess.run(accuracy, feed_dict={x: x_test, y_: y_test})\n",
    "print(\"정답률=\", acc)\n",
    "# 학습 상태 출력하기\n",
    "train_feed_dict = {x: x_train, y_: y_train}\n",
    "test_feed_dict={x: x_test}\n",
    "for i in range(5001):\n",
    "sess.run(train, feed_dict=train_feed_dict)\n",
    "if(i % 100 == 0 and i > 1):\n",
    "acc = sess.run(accuracy, feed_dict={x: x_test, y_: y_test})\n",
    "print('step=', i, \"accuracy=\", acc)\n",
    "print(\"ok\")"
   ]
  },
  {
   "cell_type": "code",
   "execution_count": null,
   "metadata": {},
   "outputs": [],
   "source": []
  },
  {
   "cell_type": "code",
   "execution_count": null,
   "metadata": {},
   "outputs": [],
   "source": []
  },
  {
   "cell_type": "code",
   "execution_count": null,
   "metadata": {},
   "outputs": [],
   "source": []
  }
 ],
 "metadata": {
  "kernelspec": {
   "display_name": "Python 3",
   "language": "python",
   "name": "python3"
  },
  "language_info": {
   "codemirror_mode": {
    "name": "ipython",
    "version": 3
   },
   "file_extension": ".py",
   "mimetype": "text/x-python",
   "name": "python",
   "nbconvert_exporter": "python",
   "pygments_lexer": "ipython3",
   "version": "3.7.1"
  }
 },
 "nbformat": 4,
 "nbformat_minor": 2
}
